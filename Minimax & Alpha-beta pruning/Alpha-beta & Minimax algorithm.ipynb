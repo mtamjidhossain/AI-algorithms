{
  "nbformat": 4,
  "nbformat_minor": 0,
  "metadata": {
    "colab": {
      "name": "Untitled0.ipynb",
      "provenance": []
    },
    "kernelspec": {
      "name": "python3",
      "display_name": "Python 3"
    }
  },
  "cells": [
    {
      "cell_type": "code",
      "metadata": {
        "colab": {
          "base_uri": "https://localhost:8080/"
        },
        "id": "I6roOs80zP9X",
        "outputId": "e562e169-8fac-4f32-a7bd-fa4bb3d66b1f"
      },
      "source": [
        "import random\r\n",
        "after = -1\r\n",
        "before = -1\r\n",
        "def minimax(maxd, depth, branch, ind, leaf, alpha, beta, maxPlayer):\r\n",
        "    global after\r\n",
        "    global before\r\n",
        "\r\n",
        "    if depth == maxd:\r\n",
        "        return leaf[ind]\r\n",
        "    if maxPlayer == 1:\r\n",
        "        minv = minimum\r\n",
        "        for i in range(0, branch):\r\n",
        "            val = minimax(maxd, depth+1, branch, ind*branch+i, leaf, alpha, beta, 0)\r\n",
        "            minv = max(minv, val)\r\n",
        "            alpha = max(alpha, minv)\r\n",
        "            before = before+1\r\n",
        "            if beta <= alpha:\r\n",
        "                break\r\n",
        "            else:\r\n",
        "                after = after+1\r\n",
        "        return minv\r\n",
        "    else:\r\n",
        "        maxv = maximum\r\n",
        "        for i in range(0, branch):\r\n",
        "            val = minimax(maxd, depth+1, branch, ind*branch+i, leaf, alpha, beta, 1)\r\n",
        "            maxv = min(maxv, val)\r\n",
        "            beta = min(beta, maxv)\r\n",
        "            before = before+1\r\n",
        "            if beta <= alpha:\r\n",
        "                break\r\n",
        "            else:\r\n",
        "                after = after+1\r\n",
        "        return maxv\r\n",
        "\r\n",
        "if __name__ == \"__main__\":\r\n",
        "    d = int(input(\"Depth : \"))\r\n",
        "    dep= 2*d\r\n",
        "    nodes = int(input(\"Branch : \"))\r\n",
        "    minimum = int(input(\"Minimum value : \"))\r\n",
        "    maximum = int(input(\"Maximum value : \"))\r\n",
        "    leaf = []\r\n",
        "    for i in range(0, pow(nodes, d)):\r\n",
        "        l= random.randint(minimum, maximum)\r\n",
        "        leaf.append(l)\r\n",
        "    print(\"Depth : \"+str(dep))\r\n",
        "    print(\"Branch : \"+str(nodes))\r\n",
        "    print(\"Terminal States (Leaf Nodes): : \"+str(pow(nodes, d)))\r\n",
        "    print(\"Maximum amount : \"+str(minimax(d, 0, nodes, 0, leaf, minimum, maximum, 1)))\r\n",
        "    print(\"Comparisons : \"+str(before))\r\n",
        "    print(\"Comparisons : \"+str(after))\r\n",
        "\r\n"
      ],
      "execution_count": 8,
      "outputs": [
        {
          "output_type": "stream",
          "text": [
            "Depth : 1\n",
            "Branch : 3\n",
            "Minimum value : 1\n",
            "Maximum value : 20\n",
            "Depth : 2\n",
            "Branch : 3\n",
            "Terminal States (Leaf Nodes): : 3\n",
            "Maximum amount : 20\n",
            "Comparisons : 1\n",
            "Comparisons : 0\n"
          ],
          "name": "stdout"
        }
      ]
    }
  ]
}